{
 "cells": [
  {
   "cell_type": "markdown",
   "metadata": {},
   "source": [
    "# HDR gathering\n",
    "Like basic gather, but with multiple pictures taken at different attenuations.\n",
    "\n",
    "## Setup\n",
    "Run `python f_camera_photonics\\tcp_link.py` on the lab computer. Only one thing can use the analog port at a time, so make sure it is grabbing from the digital only."
   ]
  },
  {
   "cell_type": "code",
   "execution_count": null,
   "metadata": {},
   "outputs": [],
   "source": [
    "%load_ext autoreload\n",
    "%autoreload 2\n",
    "%matplotlib inline\n",
    "\n",
    "import cv2\n",
    "import sys, os\n",
    "import numpy as np\n",
    "import pickle\n",
    "import matplotlib.pyplot as plt\n",
    "\n",
    "sys.path.append('..')\n",
    "# import f_camera_photonics\n",
    "from f_camera_photonics.component_capture import single_shot\n",
    "from f_camera_photonics import cvshow\n",
    "from f_camera_photonics.peak_finder import f_camera_photonics, main, get_all_config, PortArray\n",
    "from f_camera_photonics.tcp_link import remote_call, capture, attenuate, unpack_image"
   ]
  },
  {
   "cell_type": "code",
   "execution_count": null,
   "metadata": {},
   "outputs": [],
   "source": [
    "remote = True\n",
    "datadir = '../measurement_data/sheep02-trees'\n",
    "\n",
    "sample_name = 'length-sweep-chip2'  # change this every device\n",
    "def to_file(extension):\n",
    "    return os.path.join(datadir, sample_name + extension)"
   ]
  },
  {
   "cell_type": "code",
   "execution_count": null,
   "metadata": {},
   "outputs": [],
   "source": [
    "def save_matrix(HDR, Powers):\n",
    "    pickle.dump(Powers, open(to_file('.pickle'), 'wb'))\n",
    "    \n",
    "    metadata = dict(HDR_vals=list(HDR),\n",
    "                    laser_Amps=0.130)  # this second row you fill out manually\n",
    "    pickle.dump(metadata, open(to_file('.metadata.pickle'), 'wb'))\n",
    "    \n",
    "    fi, ax = plt.subplots(figsize=(10, 5))\n",
    "    ax.loglog(10 ** (-HDR / 10), Powers, '.-')\n",
    "    ax.grid(which='minor')\n",
    "    plt.xlabel('Attenuation')\n",
    "    plt.ylabel('Port power')\n",
    "    plt.title(sample_name)\n",
    "    plt.savefig(to_file('.png'))"
   ]
  },
  {
   "cell_type": "markdown",
   "metadata": {},
   "source": [
    "## Preview valid box\n",
    "You can do this with the lamp on, but make sure to turn it off afterward.\n",
    "\n",
    "You will be given a preview of the valid box"
   ]
  },
  {
   "cell_type": "code",
   "execution_count": null,
   "metadata": {},
   "outputs": [],
   "source": [
    "if remote:\n",
    "    remote_call(attenuate, atten=0)\n",
    "    img = unpack_image(remote_call(capture, avgcnt=2))\n",
    "else:\n",
    "    atten_db(atten=10)\n",
    "    img = single_shot()\n",
    "    \n",
    "cfg=get_all_config()\n",
    "if cfg.valid_box is not None:\n",
    "    x, y, w, h = cfg.valid_box\n",
    "#     cv2.rectangle(img, (x, y), (x+w, y+h), (0,0,255), 2)\n",
    "    \n",
    "cv2.imwrite(to_file('.tif'), img)\n",
    "# cv2.imwrite(os.path.join(datadir, 'typical-00dB-bright.tif'), img)  # various pictures you want to save otherwise\n",
    "\n",
    "# cvshow(img)"
   ]
  },
  {
   "cell_type": "markdown",
   "metadata": {},
   "source": [
    "### If you are satisfied with the valid box, turn out the lamp and move on\n",
    "\n",
    "## Find the port box spec on the saved image\n",
    "You will be given a preview of the port boxes"
   ]
  },
  {
   "cell_type": "code",
   "execution_count": null,
   "metadata": {},
   "outputs": [],
   "source": [
    "# No file artifacts\n",
    "# pout = f_camera_photonics(filename=tif_file, box_spec=None, max_box_width=10)\n",
    "# port_arr = PortArray.from_dict(pout)\n",
    "\n",
    "if True:  # Use the manual box spec or not\n",
    "    # This is set up so you put the center spot right next to the line of dead pixels\n",
    "    all_y = 445\n",
    "    xlist = np.linspace(38, 433, 16)\n",
    "    my_boxspec = [[x, all_y, 10] for x in xlist]\n",
    "else:\n",
    "    my_boxspec = None\n",
    "\n",
    "\n",
    "# File artifacts\n",
    "main(filename=to_file('.tif'), box_spec=my_boxspec, max_box_width=10)\n",
    "with open(to_file('.json'), 'r') as fx:\n",
    "    port_arr = PortArray.from_dict(json.load(fx))\n",
    "port_arr.sort_by('position')\n",
    "    \n",
    "print(port_arr)"
   ]
  },
  {
   "cell_type": "markdown",
   "metadata": {},
   "source": [
    "### If you are satisfied with port boxes, move on\n",
    "\n",
    "## HDR image taking"
   ]
  },
  {
   "cell_type": "code",
   "execution_count": null,
   "metadata": {},
   "outputs": [],
   "source": [
    "HDR_vals = np.linspace(0, 30, 30)\n",
    "P_matrix = np.zeros((len(HDR_vals), len(port_arr)))\n",
    "for i, db in enumerate(HDR_vals):\n",
    "    if remote:\n",
    "        remote_call(attenuate, atten=db)\n",
    "        img = unpack_image(remote_call(capture, avgcnt=60))\n",
    "    else:\n",
    "        atten_db(db)\n",
    "        img = single_shot()\n",
    "    print('i =', i)\n",
    "    P_matrix[i, :] = port_arr.calc_powers(img)\n",
    "remote_call(attenuate, atten=10)  # reset"
   ]
  },
  {
   "cell_type": "code",
   "execution_count": null,
   "metadata": {},
   "outputs": [],
   "source": [
    "# if you like it save it\n",
    "save_matrix(HDR_vals, P_matrix)"
   ]
  },
  {
   "cell_type": "code",
   "execution_count": null,
   "metadata": {},
   "outputs": [],
   "source": [
    "plt.loglog(10 ** (-HDR_vals / 10), P_matrix[:, ::2]-np.min(P_matrix)+1e2, '.-')"
   ]
  },
  {
   "cell_type": "code",
   "execution_count": null,
   "metadata": {},
   "outputs": [],
   "source": []
  }
 ],
 "metadata": {
  "kernelspec": {
   "display_name": "Python 3",
   "language": "python",
   "name": "python3"
  },
  "language_info": {
   "codemirror_mode": {
    "name": "ipython",
    "version": 3
   },
   "file_extension": ".py",
   "mimetype": "text/x-python",
   "name": "python",
   "nbconvert_exporter": "python",
   "pygments_lexer": "ipython3",
   "version": "3.6.5"
  },
  "varInspector": {
   "cols": {
    "lenName": 16,
    "lenType": 16,
    "lenVar": 40
   },
   "kernels_config": {
    "python": {
     "delete_cmd_postfix": "",
     "delete_cmd_prefix": "del ",
     "library": "var_list.py",
     "varRefreshCmd": "print(var_dic_list())"
    },
    "r": {
     "delete_cmd_postfix": ") ",
     "delete_cmd_prefix": "rm(",
     "library": "var_list.r",
     "varRefreshCmd": "cat(var_dic_list()) "
    }
   },
   "types_to_exclude": [
    "module",
    "function",
    "builtin_function_or_method",
    "instance",
    "_Feature"
   ],
   "window_display": false
  }
 },
 "nbformat": 4,
 "nbformat_minor": 2
}
