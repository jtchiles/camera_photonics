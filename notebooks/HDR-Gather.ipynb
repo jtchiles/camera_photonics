{
 "cells": [
  {
   "cell_type": "markdown",
   "metadata": {},
   "source": [
    "# HDR gathering\n",
    "Like basic gather, but with multiple pictures taken at different attenuations.\n",
    "\n",
    "## Setup\n",
    "Run `python f_camera_photonics\\tcp_link.py` on the lab computer. Only one thing can use the analog port at a time, so make sure it is grabbing from the digital only.\n",
    "\n",
    "In this notebook, run the first couple cells and make sure directories are set up. Check whether remote pictures are working. During the gathering process, you should turn off the lamp when taking pictures you want to use for data.\n",
    "\n",
    "Picking ports can be done manually or semi-manually.\n",
    "\n",
    "## Gathering\n",
    "I've found it easier to defocus, but not too much. Too much then you miss weak spots. Not enough and peaks could fall between pixels"
   ]
  },
  {
   "cell_type": "code",
   "execution_count": 217,
   "metadata": {},
   "outputs": [
    {
     "name": "stdout",
     "output_type": "stream",
     "text": [
      "The autoreload extension is already loaded. To reload it, use:\n",
      "  %reload_ext autoreload\n"
     ]
    }
   ],
   "source": [
    "%load_ext autoreload\n",
    "%autoreload 2\n",
    "%matplotlib inline\n",
    "\n",
    "import cv2\n",
    "import sys, os\n",
    "import numpy as np\n",
    "import pickle\n",
    "import matplotlib.pyplot as plt\n",
    "\n",
    "sys.path.append('..')\n",
    "# import f_camera_photonics\n",
    "from f_camera_photonics.component_capture import single_shot\n",
    "from f_camera_photonics import cvshow\n",
    "from f_camera_photonics.peak_finder import f_camera_photonics, main, get_all_config, PortArray\n",
    "from f_camera_photonics.tcp_link import remote_call, capture, attenuate, unpack_image"
   ]
  },
  {
   "cell_type": "code",
   "execution_count": 417,
   "metadata": {},
   "outputs": [],
   "source": [
    "remote = True\n",
    "datadir = '../measurement_data/chicken01-loopMirrors-round2'\n",
    "\n",
    "sample_name = 'x1-y7'  # change this every device\n",
    "def to_file(extension):\n",
    "    return os.path.join(datadir, sample_name + extension)"
   ]
  },
  {
   "cell_type": "code",
   "execution_count": 418,
   "metadata": {},
   "outputs": [],
   "source": [
    "def save_matrix(HDR, Powers):\n",
    "    pickle.dump(Powers, open(to_file('.pickle'), 'wb'))\n",
    "    \n",
    "    metadata = dict(HDR_vals=list(HDR),\n",
    "                    laser_Amps=0.130)  # this second row you fill out manually\n",
    "    pickle.dump(metadata, open(to_file('.metadata.pickle'), 'wb'))\n",
    "    \n",
    "    fi, ax = plt.subplots(figsize=(10, 5))\n",
    "    ax.loglog(10 ** (-HDR / 10), Powers, '.-')\n",
    "    ax.grid(which='minor')\n",
    "    plt.xlabel('Attenuation')\n",
    "    plt.ylabel('Port power')\n",
    "    plt.title(sample_name)\n",
    "    plt.savefig(to_file('.png'))"
   ]
  },
  {
   "cell_type": "markdown",
   "metadata": {},
   "source": [
    "## Preview valid box\n",
    "You will be given a preview of the valid box. Make sure your spots are within it. You can turn on/off this option in `config.ini`: `use_valid_box`.\n",
    "\n",
    "You can do this with the lamp on to adjust, but make sure to turn it off the last time you run this cell."
   ]
  },
  {
   "cell_type": "code",
   "execution_count": 419,
   "metadata": {},
   "outputs": [
    {
     "name": "stdout",
     "output_type": "stream",
     "text": [
      "/Users/ant12/Documents/git-projects/experiment-code/camera_photonics/f_camera_photonics/config.ini\n"
     ]
    },
    {
     "data": {
      "text/plain": [
       "True"
      ]
     },
     "execution_count": 419,
     "metadata": {},
     "output_type": "execute_result"
    }
   ],
   "source": [
    "if remote:\n",
    "    remote_call(attenuate, atten=12)\n",
    "    img = unpack_image(remote_call(capture, avgcnt=2))\n",
    "else:\n",
    "    atten_db(atten=10)\n",
    "    img = single_shot()\n",
    "    \n",
    "cfg=get_all_config()\n",
    "if cfg.valid_box is not None:\n",
    "    x, y, w, h = cfg.valid_box\n",
    "#     cv2.rectangle(img, (x, y), (x+w, y+h), (0,0,255), 2)\n",
    "    \n",
    "cv2.imwrite(to_file('.tif'), img)\n",
    "# cv2.imwrite(os.path.join(datadir, 'typical-00dB-bright.tif'), img)  # various pictures you want to save otherwise\n",
    "\n",
    "# cvshow(img)"
   ]
  },
  {
   "cell_type": "markdown",
   "metadata": {},
   "source": [
    "### If you are satisfied with the valid box, turn out the lamp and move on\n",
    "\n",
    "## Find the port box spec on the saved image\n",
    "You will be given a preview of the port boxes in green. Make sure they hit your ports. There are two options for selecting the ports\n",
    "\n",
    "#### Automatic\n",
    "This uses the peakfinder algorithm. It is recommended you use this only with the valid box option turned on. The number of ports is specified in `config.ini`. You can override the config in the arguments.\n",
    "\n",
    "This can be a little finicky. The ports must be detectable at a single intensity level. You have to make the `box_width` big enough so it doesn't think there are two peaks within one peak.\n",
    "\n",
    "Used for\n",
    "- chicken WG cutbacks\n",
    "\n",
    "#### Manual\n",
    "This can be easier when some ports are not visible or when there's a regular spacing of ports from experiment-to-experiment. You just have to guess and check this one.\n",
    "\n",
    "Used for\n",
    "- chicken loop mirror characterization\n",
    "- sheep02 absorption trees and HiDRAs"
   ]
  },
  {
   "cell_type": "code",
   "execution_count": 420,
   "metadata": {},
   "outputs": [
    {
     "name": "stdout",
     "output_type": "stream",
     "text": [
      "/Users/ant12/Documents/git-projects/experiment-code/camera_photonics/f_camera_photonics/config.ini\n",
      "The maximum value in the image after darkfield correction is: 246.0 (out of a camera limit of 4095.0)\n",
      "(#1, P: 1.00)\n",
      "(#2, P: 0.41)\n",
      "(#3, P: 0.00)\n",
      "Check if it is correct\n",
      "Press any key to close the display window\n"
     ]
    },
    {
     "name": "stderr",
     "output_type": "stream",
     "text": [
      "/Users/ant12/Documents/git-projects/experiment-code/camera_photonics/f_camera_photonics/peak_finder.py:356: RuntimeWarning: divide by zero encountered in log10\n",
      "  img_8bit = np.log10(img_8bit)\n"
     ]
    },
    {
     "name": "stdout",
     "output_type": "stream",
     "text": [
      "Saving to x1-y7.json in ../measurement_data/chicken01-loopMirrors-round2\n",
      "[array([3.02000e+02, 2.52000e+02, 1.00000e+01, 1.44276e+05]), array([3.2300e+02, 2.5200e+02, 1.0000e+01, 5.8878e+04]), array([344., 252.,  10.,  63.])]\n"
     ]
    }
   ],
   "source": [
    "# No file artifacts\n",
    "# pout = f_camera_photonics(filename=tif_file, box_spec=None, max_box_width=10)\n",
    "# port_arr = PortArray.from_dict(pout)\n",
    "\n",
    "if True:  # Use the manual box spec or not\n",
    "    # This is set up so you put the center spot right next to the line of dead pixels\n",
    "#     all_y = 528\n",
    "#     xlist = np.linspace(18, 436, 16)\n",
    "    all_y = 252\n",
    "    xlist = np.linspace(302, 344, 3)\n",
    "    my_boxspec = [[x, all_y, 10] for x in xlist]\n",
    "else:\n",
    "    my_boxspec = None\n",
    "\n",
    "\n",
    "# File artifacts\n",
    "main(filename=to_file('.tif'), box_spec=my_boxspec, box_width=15)\n",
    "with open(to_file('.json'), 'r') as fx:\n",
    "    port_arr = PortArray.from_dict(json.load(fx))\n",
    "port_arr.sort_by('position')\n",
    "    \n",
    "print(port_arr)"
   ]
  },
  {
   "cell_type": "markdown",
   "metadata": {},
   "source": [
    "### If you are satisfied with port boxes, move on\n",
    "\n",
    "## HDR image taking"
   ]
  },
  {
   "cell_type": "code",
   "execution_count": 421,
   "metadata": {},
   "outputs": [
    {
     "name": "stdout",
     "output_type": "stream",
     "text": [
      "i = 0\n",
      "i = 1\n",
      "i = 2\n",
      "i = 3\n",
      "i = 4\n",
      "i = 5\n",
      "i = 6\n",
      "i = 7\n",
      "i = 8\n",
      "i = 9\n",
      "i = 10\n",
      "i = 11\n",
      "i = 12\n",
      "i = 13\n",
      "i = 14\n",
      "i = 15\n",
      "i = 16\n",
      "i = 17\n",
      "i = 18\n",
      "i = 19\n",
      "i = 20\n",
      "i = 21\n",
      "i = 22\n",
      "i = 23\n",
      "i = 24\n",
      "i = 25\n",
      "i = 26\n",
      "i = 27\n",
      "i = 28\n",
      "i = 29\n"
     ]
    },
    {
     "data": {
      "text/plain": [
       "17"
      ]
     },
     "execution_count": 421,
     "metadata": {},
     "output_type": "execute_result"
    }
   ],
   "source": [
    "HDR_vals = np.linspace(0, 40, 30)\n",
    "P_matrix = np.ones((len(HDR_vals), len(port_arr)))\n",
    "for i, db in enumerate(HDR_vals):\n",
    "    if remote:\n",
    "        remote_call(attenuate, atten=db)\n",
    "        img = unpack_image(remote_call(capture, avgcnt=2))\n",
    "    else:\n",
    "        atten_db(db)\n",
    "        img = single_shot()\n",
    "    print('i =', i)\n",
    "    P_matrix[i, :] = port_arr.calc_powers(img, use_max=True)\n",
    "remote_call(attenuate, atten=17)  # reset"
   ]
  },
  {
   "cell_type": "code",
   "execution_count": 422,
   "metadata": {},
   "outputs": [
    {
     "data": {
      "image/png": "[encoded data removed]",
      "text/plain": [
       "<Figure size 720x360 with 1 Axes>"
      ]
     },
     "metadata": {},
     "output_type": "display_data"
    }
   ],
   "source": [
    "# if you like it save it\n",
    "save_matrix(HDR_vals, P_matrix)"
   ]
  },
  {
   "cell_type": "code",
   "execution_count": null,
   "metadata": {},
   "outputs": [],
   "source": [
    "plt.loglog(10 ** (-HDR_vals / 10), P_matrix[:, ::2]-np.min(P_matrix)+1e2, '.-')"
   ]
  },
  {
   "cell_type": "code",
   "execution_count": null,
   "metadata": {},
   "outputs": [],
   "source": []
  }
 ],
 "metadata": {
  "kernelspec": {
   "display_name": "Python 3",
   "language": "python",
   "name": "python3"
  },
  "language_info": {
   "codemirror_mode": {
    "name": "ipython",
    "version": 3
   },
   "file_extension": ".py",
   "mimetype": "text/x-python",
   "name": "python",
   "nbconvert_exporter": "python",
   "pygments_lexer": "ipython3",
   "version": "3.6.5"
  },
  "varInspector": {
   "cols": {
    "lenName": 16,
    "lenType": 16,
    "lenVar": 40
   },
   "kernels_config": {
    "python": {
     "delete_cmd_postfix": "",
     "delete_cmd_prefix": "del ",
     "library": "var_list.py",
     "varRefreshCmd": "print(var_dic_list())"
    },
    "r": {
     "delete_cmd_postfix": ") ",
     "delete_cmd_prefix": "rm(",
     "library": "var_list.r",
     "varRefreshCmd": "cat(var_dic_list()) "
    }
   },
   "types_to_exclude": [
    "module",
    "function",
    "builtin_function_or_method",
    "instance",
    "_Feature"
   ],
   "window_display": false
  }
 },
 "nbformat": 4,
 "nbformat_minor": 2
}
