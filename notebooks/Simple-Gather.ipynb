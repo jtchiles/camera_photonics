{
 "cells": [
  {
   "cell_type": "markdown",
   "metadata": {},
   "source": [
    "# Simple gathering\n",
    "This notebook takes care of image acquisition, interactive peak picking, saving images, data processing, saving data.\n",
    "\n",
    "## Setup\n",
    "Run `python f_camera_photonics\\tcp_link.py` on the lab computer. Only one thing can use the analog port at a time, so make sure it is grabbing from the digital only.\n",
    "\n",
    "### To do\n",
    "- figure out how to clone private data repo"
   ]
  },
  {
   "cell_type": "code",
   "execution_count": 1,
   "metadata": {},
   "outputs": [],
   "source": [
    "%load_ext autoreload\n",
    "%autoreload 2\n",
    "%matplotlib inline\n",
    "\n",
    "import cv2\n",
    "import sys, os\n",
    "import numpy as np\n",
    "\n",
    "sys.path.append('..')\n",
    "import f_camera_photonics\n",
    "from f_camera_photonics.component_capture import single_shot\n",
    "from f_camera_photonics import cvshow\n",
    "from f_camera_photonics.peak_finder import pick_ports, f_camera_photonics, main, get_all_config\n",
    "from f_camera_photonics.tcp_link import remote_call, capture, attenuate, unpack_image"
   ]
  },
  {
   "cell_type": "code",
   "execution_count": 2,
   "metadata": {},
   "outputs": [],
   "source": [
    "datadir = '../measurement_data/sheep2'\n",
    "remote = False"
   ]
  },
  {
   "cell_type": "markdown",
   "metadata": {},
   "source": [
    "## Image acquisition\n",
    "Align where you want to take the image then run this cell.\n",
    "\n",
    "_If anything fails here_, there is a chance the server will die. Make sure you are nearby.\n",
    "\n",
    "A window should show. Press any button to continue"
   ]
  },
  {
   "cell_type": "code",
   "execution_count": 27,
   "metadata": {},
   "outputs": [
    {
     "data": {
      "text/plain": [
       "True"
      ]
     },
     "execution_count": 27,
     "metadata": {},
     "output_type": "execute_result"
    }
   ],
   "source": [
    "# take the actual picture\n",
    "# img is 8-bit grayscale np.ndarray\n",
    "if remote:\n",
    "    img = unpack_image(remote_call(capture, avgcnt=10))\n",
    "else:\n",
    "    img = single_shot()\n",
    "\n",
    "## Save image as temporary file\n",
    "filename_temp = os.path.join(datadir, 'temp.tif')\n",
    "cv2.imwrite(filename_temp, img)"
   ]
  },
  {
   "cell_type": "code",
   "execution_count": 28,
   "metadata": {},
   "outputs": [],
   "source": [
    "# Change this to true to move the temporary image to a permanent one\n",
    "sample_name = 'foo2'\n",
    "filename = os.path.join(datadir, sample_name + '.tif')\n",
    "# filename = '../darkimage12-9-2019.tif'\n",
    "if True:\n",
    "    if os.path.isfile(filename):\n",
    "        os.remove(filename)\n",
    "    os.rename(filename_temp, filename)"
   ]
  },
  {
   "cell_type": "code",
   "execution_count": 29,
   "metadata": {},
   "outputs": [
    {
     "name": "stdout",
     "output_type": "stream",
     "text": [
      "C:\\Users\\qittlab\\Documents\\camera_photonics\\f_camera_photonics\\config.ini\n",
      "Press any key to close the display window\n"
     ]
    }
   ],
   "source": [
    "# preview valid region. If it is misaligned, best to retake the picture or change the config.ini file\n",
    "cfg = get_all_config()\n",
    "manual_box = [310, 120, 100, 250]  # manual set box. Note this does NOT change the config.ini\n",
    "if cfg.valid_box is not None:\n",
    "    x, y, w, h = manual_box\n",
    "#     x, y, w, h = cfg.valid_box\n",
    "    cv2.rectangle(img, (x, y), (x+w, y+h), (0,0,255), 2)\n",
    "# else:\n",
    "#     pnt1 = (270, 160)\n",
    "#     pnt2 = (320, 270)\n",
    "#     cv2.rectangle(img, pnt1, pnt2, (0,0,255), 2)\n",
    "\n",
    "# show it\n",
    "cvshow(img)"
   ]
  },
  {
   "cell_type": "code",
   "execution_count": 30,
   "metadata": {},
   "outputs": [
    {
     "name": "stdout",
     "output_type": "stream",
     "text": [
      "C:\\Users\\qittlab\\Documents\\camera_photonics\\f_camera_photonics\\config.ini\n",
      "The maximum value in the image after darkfield correction is: 27 (out of a camera limit of 255.0)\n"
     ]
    },
    {
     "name": "stderr",
     "output_type": "stream",
     "text": [
      "..\\f_camera_photonics\\peak_finder.py:356: RuntimeWarning: divide by zero encountered in log10\n",
      "  img_8bit = np.log10(img_8bit)\n"
     ]
    },
    {
     "name": "stdout",
     "output_type": "stream",
     "text": [
      "(#1, P: 0.84)\n",
      "(#2, P: 1.00)\n",
      "Check if it is correct\n",
      "Press any key to close the display window\n",
      "Saving to foo2.json in ../measurement_data/sheep2\n"
     ]
    },
    {
     "data": {
      "text/plain": [
       "{'Total Power': [2730.0, 3255.0],\n",
       " 'Normalized Power': [0.8387096774193549, 1.0],\n",
       " 'x': [150.0, 354.0],\n",
       " 'y': [357.0, 346.0],\n",
       " 'box_width': [10.0, 10.0]}"
      ]
     },
     "execution_count": 30,
     "metadata": {},
     "output_type": "execute_result"
    }
   ],
   "source": [
    "## Data processing and saving on the saved image\n",
    "main(filename=filename, box_spec=None, max_box_width=10, default_nports=2, \n",
    "     use_valid_box=True, valid_box=manual_box)"
   ]
  },
  {
   "cell_type": "code",
   "execution_count": 7,
   "metadata": {},
   "outputs": [
    {
     "name": "stdout",
     "output_type": "stream",
     "text": [
      "Automatic pdb calling has been turned ON\n"
     ]
    }
   ],
   "source": [
    "%pdb 1"
   ]
  }
 ],
 "metadata": {
  "kernelspec": {
   "display_name": "Python 3",
   "language": "python",
   "name": "python3"
  },
  "language_info": {
   "codemirror_mode": {
    "name": "ipython",
    "version": 3
   },
   "file_extension": ".py",
   "mimetype": "text/x-python",
   "name": "python",
   "nbconvert_exporter": "python",
   "pygments_lexer": "ipython3",
   "version": "3.6.5"
  },
  "varInspector": {
   "cols": {
    "lenName": 16,
    "lenType": 16,
    "lenVar": 40
   },
   "kernels_config": {
    "python": {
     "delete_cmd_postfix": "",
     "delete_cmd_prefix": "del ",
     "library": "var_list.py",
     "varRefreshCmd": "print(var_dic_list())"
    },
    "r": {
     "delete_cmd_postfix": ") ",
     "delete_cmd_prefix": "rm(",
     "library": "var_list.r",
     "varRefreshCmd": "cat(var_dic_list()) "
    }
   },
   "types_to_exclude": [
    "module",
    "function",
    "builtin_function_or_method",
    "instance",
    "_Feature"
   ],
   "window_display": false
  }
 },
 "nbformat": 4,
 "nbformat_minor": 2
}
